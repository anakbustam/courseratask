{
 "cells": [
  {
   "cell_type": "markdown",
   "id": "86632f78-290d-4090-89f6-cb4358814343",
   "metadata": {},
   "source": [
    "# Data Science Tools and Ecosystem\n",
    "\n"
   ]
  },
  {
   "cell_type": "markdown",
   "id": "94903d73-45b4-4363-a17c-c29694648942",
   "metadata": {},
   "source": [
    "In this notebook, Data Science Tools and Ecosystem are summarized."
   ]
  },
  {
   "cell_type": "markdown",
   "id": "e5d325e0-6070-4f7a-a3ae-78afbaa6959a",
   "metadata": {},
   "source": [
    "**Objectives:**\n",
    "- List popular languages for Data Science\n",
    "- Common libraries\n",
    "- Example arithmetics\n"
   ]
  },
  {
   "cell_type": "markdown",
   "id": "4fd6e0bc-09c7-401f-9eff-ab2d8f7d9479",
   "metadata": {},
   "source": [
    "Some of the popular languages that Data Scientists use are:\n",
    "\n",
    "1. Python\n",
    "2. R\n",
    "3. MatLab\n",
    "4. Julia"
   ]
  },
  {
   "cell_type": "markdown",
   "id": "9dd530e3-a056-4ca7-8246-e6baf5a7df94",
   "metadata": {},
   "source": [
    "Some of the commonly used libraries used by Data Scientists include:\n",
    "    \n",
    "1. Pandas\n",
    "2. Plotly\n",
    "3. Matplotlib"
   ]
  },
  {
   "cell_type": "markdown",
   "id": "a11ca650-9942-4d99-a05e-ac662864e258",
   "metadata": {
    "jp-MarkdownHeadingCollapsed": true,
    "tags": []
   },
   "source": [
    "|Data Science Tools|\n",
    "----------------\n",
    "|RStudio|\n",
    "|Apache Spark|\n",
    "|RapidMiner|"
   ]
  },
  {
   "cell_type": "markdown",
   "id": "5bc03f9f-fb5f-42f4-b760-7d109ce7460f",
   "metadata": {},
   "source": [
    "### Below are a few examples of evaluating arithmetic expressions in Python"
   ]
  },
  {
   "cell_type": "code",
   "execution_count": 1,
   "id": "4c1890a8-2932-4a47-be16-ec3a9670f6c4",
   "metadata": {},
   "outputs": [
    {
     "data": {
      "text/plain": [
       "17"
      ]
     },
     "execution_count": 1,
     "metadata": {},
     "output_type": "execute_result"
    }
   ],
   "source": [
    "#This a simple arithmetic expression to mutiply then add integers\n",
    "(3*4)+5"
   ]
  },
  {
   "cell_type": "code",
   "execution_count": 3,
   "id": "ef988439-c9db-47fb-a2c8-563199b63749",
   "metadata": {},
   "outputs": [
    {
     "name": "stdout",
     "output_type": "stream",
     "text": [
      "200 minutes is equal to 3.3333333333333335 hours\n"
     ]
    }
   ],
   "source": [
    "#This will convert 200 minutes to hours by diving by 60\n",
    "minutes = 200\n",
    "hours = minutes / 60\n",
    "print(f\"{minutes} minutes is equal to {hours} hours\")"
   ]
  },
  {
   "cell_type": "markdown",
   "id": "2209527b-5380-43d2-b1a5-19287edcbcab",
   "metadata": {},
   "source": [
    "## Author\n",
    "ikhwan Annas"
   ]
  },
  {
   "cell_type": "code",
   "execution_count": null,
   "id": "5be4c74d-adcc-43f3-965b-2c368ff59774",
   "metadata": {},
   "outputs": [],
   "source": []
  }
 ],
 "metadata": {
  "kernelspec": {
   "display_name": "Python 3 (ipykernel)",
   "language": "python",
   "name": "python3"
  },
  "language_info": {
   "codemirror_mode": {
    "name": "ipython",
    "version": 3
   },
   "file_extension": ".py",
   "mimetype": "text/x-python",
   "name": "python",
   "nbconvert_exporter": "python",
   "pygments_lexer": "ipython3",
   "version": "3.9.13"
  }
 },
 "nbformat": 4,
 "nbformat_minor": 5
}
